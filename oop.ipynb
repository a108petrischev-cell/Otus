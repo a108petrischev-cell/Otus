{
 "cells": [
  {
   "cell_type": "code",
   "execution_count": null,
   "id": "initial_id",
   "metadata": {
    "collapsed": true
   },
   "outputs": [],
   "source": [
    "class User:\n",
    "\n",
    "    def __init__(self, name, age):\n",
    "        self.name = name\n",
    "        self._age = age\n",
    "\n",
    "user = User(\"John\", 18)\n",
    "user.name"
   ]
  },
  {
   "metadata": {
    "ExecuteTime": {
     "end_time": "2025-09-02T17:09:35.476808Z",
     "start_time": "2025-09-02T17:09:35.471520Z"
    }
   },
   "cell_type": "code",
   "source": [
    "class User:\n",
    "\n",
    "    def __init__(self, name, age):\n",
    "        self.name = name\n",
    "        self._age = age # protected\n",
    "\n",
    "    def get_age(self):\n",
    "        return self._age\n",
    "\n",
    "    def __str__(self):\n",
    "        return f'User {self.name} age {self._age}'\n",
    "\n",
    "user = User(\"John\", 18)\n",
    "user.age = 234\n",
    "\n",
    "print(user.__dict__)"
   ],
   "id": "dd5643c6e6efbfed",
   "outputs": [
    {
     "name": "stdout",
     "output_type": "stream",
     "text": [
      "{'name': 'John', '_age': 18, 'age': 234}\n"
     ]
    }
   ],
   "execution_count": 3
  },
  {
   "metadata": {
    "ExecuteTime": {
     "end_time": "2025-09-02T17:29:01.443855Z",
     "start_time": "2025-09-02T17:29:01.438193Z"
    }
   },
   "cell_type": "code",
   "source": [
    "class Number:\n",
    "    def __init__(self, value):\n",
    "        self.value = value\n",
    "        self.__author = 'Alex' # prived\n",
    "\n",
    "class SuperNumber(Number):\n",
    "    pass\n",
    "\n",
    "number = SuperNumber(5)\n",
    "print(number.value)\n",
    "print(number.__author)"
   ],
   "id": "cec30bc8be004904",
   "outputs": [
    {
     "name": "stdout",
     "output_type": "stream",
     "text": [
      "5\n",
      "Alex\n"
     ]
    }
   ],
   "execution_count": 4
  },
  {
   "metadata": {
    "ExecuteTime": {
     "end_time": "2025-09-03T13:36:35.861535Z",
     "start_time": "2025-09-03T13:36:35.710725Z"
    }
   },
   "cell_type": "code",
   "source": [
    "class Number:\n",
    "    def __init__(self, value):\n",
    "        self.value = value\n",
    "        self.__author = 'Alex' # prived\n",
    "\n",
    "class SuperNumber(Number):\n",
    "    def print_parent(self):\n",
    "        print(self.)\n",
    "\n",
    "number = SuperNumber(5)\n",
    "print(number.value)\n",
    "number.print_parent()"
   ],
   "id": "8bd818cf55f6f2bc",
   "outputs": [
    {
     "name": "stdout",
     "output_type": "stream",
     "text": [
      "5\n"
     ]
    },
    {
     "ename": "AttributeError",
     "evalue": "'SuperNumber' object has no attribute 'Number__author'",
     "output_type": "error",
     "traceback": [
      "\u001B[31m---------------------------------------------------------------------------\u001B[39m",
      "\u001B[31mAttributeError\u001B[39m                            Traceback (most recent call last)",
      "\u001B[36mCell\u001B[39m\u001B[36m \u001B[39m\u001B[32mIn[8]\u001B[39m\u001B[32m, line 12\u001B[39m\n\u001B[32m     10\u001B[39m number = SuperNumber(\u001B[32m5\u001B[39m)\n\u001B[32m     11\u001B[39m \u001B[38;5;28mprint\u001B[39m(number.value)\n\u001B[32m---> \u001B[39m\u001B[32m12\u001B[39m \u001B[43mnumber\u001B[49m\u001B[43m.\u001B[49m\u001B[43mprint_parent\u001B[49m\u001B[43m(\u001B[49m\u001B[43m)\u001B[49m\n",
      "\u001B[36mCell\u001B[39m\u001B[36m \u001B[39m\u001B[32mIn[8]\u001B[39m\u001B[32m, line 8\u001B[39m, in \u001B[36mSuperNumber.print_parent\u001B[39m\u001B[34m(self)\u001B[39m\n\u001B[32m      7\u001B[39m \u001B[38;5;28;01mdef\u001B[39;00m\u001B[38;5;250m \u001B[39m\u001B[34mprint_parent\u001B[39m(\u001B[38;5;28mself\u001B[39m):\n\u001B[32m----> \u001B[39m\u001B[32m8\u001B[39m     \u001B[38;5;28mprint\u001B[39m(\u001B[38;5;28;43mself\u001B[39;49m\u001B[43m.\u001B[49m\u001B[43mNumber__author\u001B[49m)\n",
      "\u001B[31mAttributeError\u001B[39m: 'SuperNumber' object has no attribute 'Number__author'"
     ]
    }
   ],
   "execution_count": 8
  },
  {
   "metadata": {},
   "cell_type": "code",
   "outputs": [],
   "execution_count": null,
   "source": "super() # возвращает родительский класс",
   "id": "90aeeafd5c19af41"
  },
  {
   "metadata": {
    "ExecuteTime": {
     "end_time": "2025-09-02T17:39:50.251456Z",
     "start_time": "2025-09-02T17:39:50.246971Z"
    }
   },
   "cell_type": "code",
   "source": "CONST = 100",
   "id": "50fa01cad387e6f8",
   "outputs": [],
   "execution_count": 7
  },
  {
   "metadata": {},
   "cell_type": "code",
   "outputs": [],
   "execution_count": null,
   "source": "singleton",
   "id": "d4bfed3a6ad242b"
  },
  {
   "metadata": {
    "ExecuteTime": {
     "end_time": "2025-09-04T05:47:51.075642Z",
     "start_time": "2025-09-04T05:47:51.067988Z"
    }
   },
   "cell_type": "code",
   "source": [
    "s = 'www.stepik.org'\n",
    "print(s.startswith('www'))"
   ],
   "id": "a9474f5bf784e919",
   "outputs": [
    {
     "name": "stdout",
     "output_type": "stream",
     "text": [
      "True\n"
     ]
    }
   ],
   "execution_count": 13
  },
  {
   "metadata": {
    "ExecuteTime": {
     "end_time": "2025-09-08T11:14:05.583139Z",
     "start_time": "2025-09-08T11:14:05.577236Z"
    }
   },
   "cell_type": "code",
   "source": [
    "numbers = [2, 6, 3, 14, 10, 4, 11, 16, 12, 5, 4, 16, 1, 0, 8, 16, 10, 10, 8, 5, 1, 11, 10, 10, 12, 0, 0, 6, 14, 8, 2, 12, 14, 5, 6, 12, 1, 2, 10, 14, 9, 1, 15, 1, 2, 14, 16, 6, 7, 5]\n",
    "\n",
    "\n",
    "print(len(numbers))\n",
    "print(numbers[-1])\n",
    "print()\n",
    "print()\n",
    "print()"
   ],
   "id": "1c7620585d3b759a",
   "outputs": [
    {
     "name": "stdout",
     "output_type": "stream",
     "text": [
      "50\n",
      "5\n",
      "None\n",
      "\n",
      "\n"
     ]
    }
   ],
   "execution_count": 25
  },
  {
   "metadata": {
    "ExecuteTime": {
     "end_time": "2025-09-08T11:22:20.675007Z",
     "start_time": "2025-09-08T11:22:20.662041Z"
    }
   },
   "cell_type": "code",
   "source": [
    "numbers = [1, 3, 0, 2, 4]\n",
    "\n",
    "for i in numbers:\n",
    "    print(numbers[i], end=' ')"
   ],
   "id": "6843f5690c988dcf",
   "outputs": [
    {
     "name": "stdout",
     "output_type": "stream",
     "text": [
      "3 2 1 0 4 "
     ]
    }
   ],
   "execution_count": 26
  },
  {
   "metadata": {
    "ExecuteTime": {
     "end_time": "2025-09-08T12:53:40.726749Z",
     "start_time": "2025-09-08T12:53:40.718597Z"
    }
   },
   "cell_type": "code",
   "source": [
    "s = 'BEEGEEK'\n",
    "chars = list(s)\n",
    "s = '**'.join(chars)\n",
    "print(s)"
   ],
   "id": "bb4fb6143420573e",
   "outputs": [
    {
     "name": "stdout",
     "output_type": "stream",
     "text": [
      "B**E**E**G**E**E**K\n"
     ]
    }
   ],
   "execution_count": 27
  },
  {
   "metadata": {},
   "cell_type": "code",
   "outputs": [],
   "execution_count": null,
   "source": "",
   "id": "521ca137789a58f0"
  }
 ],
 "metadata": {
  "kernelspec": {
   "display_name": "Python 3",
   "language": "python",
   "name": "python3"
  },
  "language_info": {
   "codemirror_mode": {
    "name": "ipython",
    "version": 2
   },
   "file_extension": ".py",
   "mimetype": "text/x-python",
   "name": "python",
   "nbconvert_exporter": "python",
   "pygments_lexer": "ipython2",
   "version": "2.7.6"
  }
 },
 "nbformat": 4,
 "nbformat_minor": 5
}
