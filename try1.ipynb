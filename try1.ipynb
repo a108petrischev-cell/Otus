{
 "cells": [
  {
   "metadata": {},
   "cell_type": "code",
   "outputs": [],
   "execution_count": null,
   "source": [
    "new_contact = {\n",
    "    \"name\": input(\"Введите имя: \"),\n",
    "    \"cell_number\": int(input(\"Введите номер телефона: \")),\n",
    "    \"email\": input(\"Введите адрес эл.почты: \"),\n",
    "    \"telegram\": input(\"Введите telegram: \"),\n",
    "    \"comment\": input(\"Доп. информация: \"),\n",
    "}"
   ],
   "id": "914c0e44485fdf8e"
  },
  {
   "metadata": {
    "collapsed": true,
    "ExecuteTime": {
     "end_time": "2025-08-28T13:27:04.252963Z",
     "start_time": "2025-08-28T13:27:04.244236Z"
    }
   },
   "cell_type": "code",
   "outputs": [],
   "execution_count": 1,
   "source": [
    "import json\n",
    "\n",
    "\n",
    "def find_contact():\n",
    "    with open('contacts.json') as contacts:\n",
    "        for contact in contacts:\n",
    "            print(contact)\n",
    "    return contact"
   ],
   "id": "initial_id"
  },
  {
   "metadata": {
    "ExecuteTime": {
     "end_time": "2025-08-28T20:10:55.091374Z",
     "start_time": "2025-08-28T20:10:39.024393Z"
    }
   },
   "cell_type": "code",
   "outputs": [
    {
     "name": "stdout",
     "output_type": "stream",
     "text": [
      "Федор 89043243433  \n"
     ]
    }
   ],
   "execution_count": 8,
   "source": [
    "class Contact:\n",
    "    def __init__(self, name, cell_number, email, telegram):\n",
    "        self.name = name\n",
    "        self.cell_number = cell_number\n",
    "        self.email = email\n",
    "        self.telegram = telegram\n",
    "\n",
    "    def __str__(self):\n",
    "        return self.name + ' ' + self.cell_number + ' ' + self.email + ' ' + self.telegram\n",
    "\n",
    "\n",
    "contact1 = Contact(input(\"Введите имя: \" ), input(\"Введите номер телефона: \" ), input(\"Введите адрес эл.почты: \" ), input(\"Введите ваш телеграмм\"))\n",
    "\n",
    "\n",
    "\n",
    "print(contact1)\n"
   ],
   "id": "709cb4406731e18f"
  },
  {
   "metadata": {
    "ExecuteTime": {
     "end_time": "2025-08-28T21:01:32.365938Z",
     "start_time": "2025-08-28T21:01:32.361871Z"
    }
   },
   "cell_type": "code",
   "outputs": [],
   "execution_count": 9,
   "source": [
    "def delete_contact():\n",
    "    with open('contacts.json', 'r') as contacts:\n",
    "        for contact in contacts:\n",
    "            print(contact)\n"
   ],
   "id": "d697242c48fda729"
  }
 ],
 "metadata": {
  "kernelspec": {
   "display_name": "Python 3",
   "language": "python",
   "name": "python3"
  },
  "language_info": {
   "codemirror_mode": {
    "name": "ipython",
    "version": 2
   },
   "file_extension": ".py",
   "mimetype": "text/x-python",
   "name": "python",
   "nbconvert_exporter": "python",
   "pygments_lexer": "ipython2",
   "version": "2.7.6"
  }
 },
 "nbformat": 4,
 "nbformat_minor": 5
}
